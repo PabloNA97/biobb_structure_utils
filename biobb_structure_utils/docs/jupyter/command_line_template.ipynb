{
 "cells": [
  {
   "cell_type": "markdown",
   "metadata": {},
   "source": [
    "# BioBB Structure Utils Command Line Help"
   ]
  },
  {
   "cell_type": "markdown",
   "metadata": {},
   "source": [
    "Generic usage:"
   ]
  },
  {
   "cell_type": "code",
   "execution_count": null,
   "metadata": {},
   "outputs": [],
   "source": [
    "biobb_command [-h] --config CONFIG [--system SYSTEM] [--step STEP] --input_file(s) <input_file(s)> --output_file <output_file>"
   ]
  },
  {
   "cell_type": "markdown",
   "metadata": {},
   "source": [
    "Please refer to the system & step documentation for more information of these two parameters."
   ]
  },
  {
   "cell_type": "markdown",
   "metadata": {},
   "source": [
    "-----------------"
   ]
  },
  {
   "cell_type": "markdown",
   "metadata": {},
   "source": [
    "## Cat PDB"
   ]
  },
  {
   "cell_type": "markdown",
   "metadata": {},
   "source": [
    "Class to concat two PDB structures in a single PDB file."
   ]
  },
  {
   "cell_type": "markdown",
   "metadata": {},
   "source": [
    "### Get help"
   ]
  },
  {
   "cell_type": "markdown",
   "metadata": {},
   "source": [
    "Command:"
   ]
  },
  {
   "cell_type": "code",
   "execution_count": null,
   "metadata": {},
   "outputs": [],
   "source": [
    "cat_pdb -h"
   ]
  },
  {
   "cell_type": "code",
   "execution_count": null,
   "metadata": {},
   "outputs": [],
   "source": [
    "usage: cat_pdb [-h] [-c CONFIG] [--system SYSTEM] [--step STEP] -i1 INPUT_STRUCTURE1 -i2 INPUT_STRUCTURE2 -o OUTPUT_STRUCTURE_PATH\n",
    "\n",
    "Concat two PDB structures in a single PDB file.\n",
    "\n",
    "optional arguments:\n",
    "  -h, --help            show this help message and exit\n",
    "  -c CONFIG, --config CONFIG\n",
    "                        This file can be a YAML file, JSON file or JSON string\n",
    "  --system SYSTEM       Check 'https://biobb-common.readthedocs.io/en/latest/system_step.html' for help\n",
    "  --step STEP           Check 'https://biobb-common.readthedocs.io/en/latest/system_step.html' for help\n",
    "\n",
    "required arguments:\n",
    "  -i1 INPUT_STRUCTURE1, --input_structure1 INPUT_STRUCTURE1\n",
    "                        Input structure 1 file path. Accepted formats: pdb.\n",
    "  -i2 INPUT_STRUCTURE2, --input_structure2 INPUT_STRUCTURE2\n",
    "                        Input structure 2 file path. Accepted formats: pdb.\n",
    "  -o OUTPUT_STRUCTURE_PATH, --output_structure_path OUTPUT_STRUCTURE_PATH\n",
    "                        Output structure file path. Accepted formats: pdb."
   ]
  },
  {
   "cell_type": "markdown",
   "metadata": {},
   "source": [
    "### I / O Arguments"
   ]
  },
  {
   "cell_type": "markdown",
   "metadata": {},
   "source": [
    "Syntax: input_argument (datatype) : Definition\n",
    "\n",
    "Config input / output arguments for this building block:\n",
    "\n",
    "* **input_structure1** (*str*): Input structure 1 file path. Accepted formats: pdb.\n",
    "* **input_structure2** (*str*): Input structure 2 file path. Accepted formats: pdb.\n",
    "* **output_structure_path** (*str*): Output protein file path. Accepted formats: pdb."
   ]
  },
  {
   "cell_type": "markdown",
   "metadata": {},
   "source": [
    "### Config"
   ]
  },
  {
   "cell_type": "markdown",
   "metadata": {},
   "source": [
    "Syntax: input_parameter (datatype) - (default_value) Definition\n",
    "\n",
    "Config parameters for this building block:\n",
    "\n",
    "* **remove_tmp** (*bool*) - (True) [WF property] Remove temporal files.\n",
    "* **restart** (*bool*) - (False) [WF property] Do not execute if output files exist."
   ]
  },
  {
   "cell_type": "markdown",
   "metadata": {},
   "source": [
    "### Command line"
   ]
  },
  {
   "cell_type": "code",
   "execution_count": null,
   "metadata": {},
   "outputs": [],
   "source": [
    "cat_pdb --input_structure1 data/input/cat_protein.pdb --input_structure2 data/input/cat_ligand.pdb --output_structure_path data/output/output.cat.pdb"
   ]
  },
  {
   "cell_type": "markdown",
   "metadata": {},
   "source": [
    "## Extract Atoms"
   ]
  },
  {
   "cell_type": "markdown",
   "metadata": {},
   "source": [
    "Class to extract atoms from a 3D structure."
   ]
  },
  {
   "cell_type": "markdown",
   "metadata": {},
   "source": [
    "### Get help"
   ]
  },
  {
   "cell_type": "markdown",
   "metadata": {},
   "source": [
    "Command:"
   ]
  },
  {
   "cell_type": "code",
   "execution_count": null,
   "metadata": {},
   "outputs": [],
   "source": [
    "extract_atoms -h"
   ]
  },
  {
   "cell_type": "code",
   "execution_count": null,
   "metadata": {},
   "outputs": [],
   "source": [
    "usage: extract_atoms [-h] [-c CONFIG] [--system SYSTEM] [--step STEP] -i INPUT_STRUCTURE_PATH -o OUTPUT_STRUCTURE_PATH\n",
    "\n",
    "Remove the selected ligand atoms from a 3D structure.\n",
    "\n",
    "optional arguments:\n",
    "  -h, --help            show this help message and exit\n",
    "  -c CONFIG, --config CONFIG\n",
    "                        This file can be a YAML file, JSON file or JSON string\n",
    "  --system SYSTEM       Check 'https://biobb-common.readthedocs.io/en/latest/system_step.html' for help\n",
    "  --step STEP           Check 'https://biobb-common.readthedocs.io/en/latest/system_step.html' for help\n",
    "\n",
    "required arguments:\n",
    "  -i INPUT_STRUCTURE_PATH, --input_structure_path INPUT_STRUCTURE_PATH\n",
    "                        Input structure file name\n",
    "  -o OUTPUT_STRUCTURE_PATH, --output_structure_path OUTPUT_STRUCTURE_PATH\n",
    "                        Output structure file name"
   ]
  },
  {
   "cell_type": "markdown",
   "metadata": {},
   "source": [
    "### I / O Arguments"
   ]
  },
  {
   "cell_type": "markdown",
   "metadata": {},
   "source": [
    "Syntax: input_argument (datatype) : Definition\n",
    "\n",
    "Config input / output arguments for this building block:\n",
    "\n",
    "* **input_structure_path** (*str*): Input structure file path.\n",
    "* **output_structure_path** (*str*): Output structure file path."
   ]
  },
  {
   "cell_type": "markdown",
   "metadata": {},
   "source": [
    "### Config"
   ]
  },
  {
   "cell_type": "markdown",
   "metadata": {},
   "source": [
    "Syntax: input_parameter (datatype) - (default_value) Definition\n",
    "\n",
    "Config parameters for this building block:\n",
    "\n",
    "* **regular_expression_pattern** (*str*) - (\"^D\") Python style regular expression matching the selected atom names.\n",
    "* **remove_tmp** (*bool*) - (True) [WF property] Remove temporal files.\n",
    "* **restart** (*bool*) - (False) [WF property] Do not execute if output files exist."
   ]
  },
  {
   "cell_type": "markdown",
   "metadata": {},
   "source": [
    "### YAML file config"
   ]
  },
  {
   "cell_type": "markdown",
   "metadata": {},
   "source": [
    "extract_atoms.yml"
   ]
  },
  {
   "cell_type": "code",
   "execution_count": null,
   "metadata": {},
   "outputs": [],
   "source": [
    "properties:\n",
    "  regular_expression_pattern: OE2"
   ]
  },
  {
   "cell_type": "code",
   "execution_count": null,
   "metadata": {},
   "outputs": [],
   "source": [
    "extract_atoms --config data/conf/extract_atoms.yml --input_structure_path data/input/2vgb.pdb --output_structure_path data/output/output.extat.pdb"
   ]
  },
  {
   "cell_type": "markdown",
   "metadata": {},
   "source": [
    "### JSON file config"
   ]
  },
  {
   "cell_type": "markdown",
   "metadata": {},
   "source": [
    "extract_atoms.json"
   ]
  },
  {
   "cell_type": "code",
   "execution_count": null,
   "metadata": {},
   "outputs": [],
   "source": [
    "{\n",
    "  \"properties\": {\n",
    "    \"regular_expression_pattern\": \"OE2\"\n",
    "  }\n",
    "}"
   ]
  },
  {
   "cell_type": "markdown",
   "metadata": {},
   "source": [
    "Command:"
   ]
  },
  {
   "cell_type": "code",
   "execution_count": null,
   "metadata": {},
   "outputs": [],
   "source": [
    "extract_atoms --config data/conf/extract_atoms.json --input_structure_path data/input/2vgb.pdb --output_structure_path data/output/output.extat.pdb"
   ]
  },
  {
   "cell_type": "markdown",
   "metadata": {},
   "source": [
    "## Extract Chain"
   ]
  },
  {
   "cell_type": "markdown",
   "metadata": {},
   "source": [
    "Class to extract a chain from a 3D structure."
   ]
  },
  {
   "cell_type": "markdown",
   "metadata": {},
   "source": [
    "### Get help"
   ]
  },
  {
   "cell_type": "markdown",
   "metadata": {},
   "source": [
    "Command:"
   ]
  },
  {
   "cell_type": "code",
   "execution_count": null,
   "metadata": {},
   "outputs": [],
   "source": [
    "extract_chain -h"
   ]
  },
  {
   "cell_type": "code",
   "execution_count": null,
   "metadata": {},
   "outputs": [],
   "source": [
    "usage: extract_chain [-h] [-c CONFIG] [--system SYSTEM] [--step STEP] -i INPUT_STRUCTURE_PATH -o OUTPUT_STRUCTURE_PATH\n",
    "\n",
    "Extract a chain from a 3D structure.\n",
    "\n",
    "optional arguments:\n",
    "  -h, --help            show this help message and exit\n",
    "  -c CONFIG, --config CONFIG\n",
    "                        This file can be a YAML file, JSON file or JSON string\n",
    "  --system SYSTEM       Check 'https://biobb-common.readthedocs.io/en/latest/system_step.html' for help\n",
    "  --step STEP           Check 'https://biobb-common.readthedocs.io/en/latest/system_step.html' for help\n",
    "\n",
    "required arguments:\n",
    "  -i INPUT_STRUCTURE_PATH, --input_structure_path INPUT_STRUCTURE_PATH\n",
    "                        Input structure file path. Accepted formats: pdb.\n",
    "  -o OUTPUT_STRUCTURE_PATH, --output_structure_path OUTPUT_STRUCTURE_PATH\n",
    "                        Output structure file path. Accepted formats: pdb."
   ]
  },
  {
   "cell_type": "markdown",
   "metadata": {},
   "source": [
    "### I / O Arguments"
   ]
  },
  {
   "cell_type": "markdown",
   "metadata": {},
   "source": [
    "Syntax: input_argument (datatype) : Definition\n",
    "\n",
    "Config input / output arguments for this building block:\n",
    "\n",
    "* **input_structure_path** (*str*): Input structure file path. Accepted formats: pdb.\n",
    "* **output_structure_path** (*str*): Output structure file path. Accepted formats: pdb."
   ]
  },
  {
   "cell_type": "markdown",
   "metadata": {},
   "source": [
    "### Config"
   ]
  },
  {
   "cell_type": "markdown",
   "metadata": {},
   "source": [
    "Syntax: input_parameter (datatype) - (default_value) Definition\n",
    "\n",
    "Config parameters for this building block:\n",
    "\n",
    "* **chains** (*list*) - (None) List of chains to be extracted from the input_structure_path file. If empty, all the chains of the structure will be returned.\n",
    "* **remove_tmp** (*bool*) - (True) [WF property] Remove temporal files.\n",
    "* **restart** (*bool*) - (False) [WF property] Do not execute if output files exist."
   ]
  },
  {
   "cell_type": "markdown",
   "metadata": {},
   "source": [
    "### YAML file config"
   ]
  },
  {
   "cell_type": "markdown",
   "metadata": {},
   "source": [
    "extract_chain.yml"
   ]
  },
  {
   "cell_type": "code",
   "execution_count": null,
   "metadata": {},
   "outputs": [],
   "source": [
    "properties:\n",
    "  chains: [B,C]"
   ]
  },
  {
   "cell_type": "code",
   "execution_count": null,
   "metadata": {},
   "outputs": [],
   "source": [
    "extract_chain --config data/conf/extract_chain.yml --input_structure_path data/input/extract_chain.pdb --output_structure_path data/output/output.extch.pdb"
   ]
  },
  {
   "cell_type": "markdown",
   "metadata": {},
   "source": [
    "### JSON file config"
   ]
  },
  {
   "cell_type": "markdown",
   "metadata": {},
   "source": [
    "extract_chain.json"
   ]
  },
  {
   "cell_type": "code",
   "execution_count": null,
   "metadata": {},
   "outputs": [],
   "source": [
    "{\n",
    "  \"properties\": {\n",
    "    \"chains\": [\"B\",\"C\"]\n",
    "  }\n",
    "}"
   ]
  },
  {
   "cell_type": "markdown",
   "metadata": {},
   "source": [
    "Command:"
   ]
  },
  {
   "cell_type": "code",
   "execution_count": null,
   "metadata": {},
   "outputs": [],
   "source": [
    "extract_chain --config data/conf/extract_chain.json --input_structure_path data/input/extract_chain.pdb --output_structure_path data/output/output.extch.pdb"
   ]
  },
  {
   "cell_type": "markdown",
   "metadata": {},
   "source": [
    "## Extract Heteroatoms"
   ]
  },
  {
   "cell_type": "markdown",
   "metadata": {},
   "source": [
    "Class to extract hetero-atoms from a 3D structure."
   ]
  },
  {
   "cell_type": "markdown",
   "metadata": {},
   "source": [
    "### Get help"
   ]
  },
  {
   "cell_type": "markdown",
   "metadata": {},
   "source": [
    "Command:"
   ]
  },
  {
   "cell_type": "code",
   "execution_count": null,
   "metadata": {},
   "outputs": [],
   "source": [
    "extract_heteroatoms -h"
   ]
  },
  {
   "cell_type": "code",
   "execution_count": null,
   "metadata": {},
   "outputs": [],
   "source": [
    "usage: extract_heteroatoms [-h] [-c CONFIG] [--system SYSTEM] [--step STEP] -i INPUT_STRUCTURE_PATH -o OUTPUT_HETEROATOM_PATH\n",
    "\n",
    "Extract a list of heteroatoms from a 3D structure.\n",
    "\n",
    "optional arguments:\n",
    "  -h, --help            show this help message and exit\n",
    "  -c CONFIG, --config CONFIG\n",
    "                        This file can be a YAML file, JSON file or JSON string\n",
    "  --system SYSTEM       Check 'https://biobb-common.readthedocs.io/en/latest/system_step.html' for help\n",
    "  --step STEP           Check 'https://biobb-common.readthedocs.io/en/latest/system_step.html' for help\n",
    "\n",
    "required arguments:\n",
    "  -i INPUT_STRUCTURE_PATH, --input_structure_path INPUT_STRUCTURE_PATH\n",
    "                        Input structure file path. Accepted formats: pdb.\n",
    "  -o OUTPUT_HETEROATOM_PATH, --output_heteroatom_path OUTPUT_HETEROATOM_PATH\n",
    "                        Output heteroatom file path. Accepted formats: pdb."
   ]
  },
  {
   "cell_type": "markdown",
   "metadata": {},
   "source": [
    "### I / O Arguments"
   ]
  },
  {
   "cell_type": "markdown",
   "metadata": {},
   "source": [
    "Syntax: input_argument (datatype) : Definition\n",
    "\n",
    "Config input / output arguments for this building block:\n",
    "\n",
    "* **input_structure_path** (*str*): Input structure file path. Accepted formats: pdb.\n",
    "* **output_heteroatom_path** (*str*): Output heteroatom file path. Accepted formats: pdb."
   ]
  },
  {
   "cell_type": "markdown",
   "metadata": {},
   "source": [
    "### Config"
   ]
  },
  {
   "cell_type": "markdown",
   "metadata": {},
   "source": [
    "Syntax: input_parameter (datatype) - (default_value) Definition\n",
    "\n",
    "Config parameters for this building block:\n",
    "\n",
    "* **heteroatoms** (*list*) - (None) List of dictionaries with the name | res_id | chain | model of the heteroatoms to be extracted. Format: [{\"name\": \"ZZ7\", \"res_id\": \"302\", \"chain\": \"B\", \"model\": \"1\"}]. If empty, all the heteroatoms of the structure will be returned.\n",
    "* **remove_tmp** (*bool*) - (True) [WF property] Remove temporal files.\n",
    "* **restart** (*bool*) - (False) [WF property] Do not execute if output files exist."
   ]
  },
  {
   "cell_type": "markdown",
   "metadata": {},
   "source": [
    "### YAML file config"
   ]
  },
  {
   "cell_type": "markdown",
   "metadata": {},
   "source": [
    "extract_heteroatoms.yml"
   ]
  },
  {
   "cell_type": "code",
   "execution_count": null,
   "metadata": {},
   "outputs": [],
   "source": [
    "properties:\n",
    "  heteroatoms: [{\n",
    "    \"name\": \"TA1\",\n",
    "    \"model\": \"1\"\n",
    "  },\n",
    "  {\n",
    "    \"name\": \"ADP\"\n",
    "  }]"
   ]
  },
  {
   "cell_type": "code",
   "execution_count": null,
   "metadata": {},
   "outputs": [],
   "source": [
    "extract_heteroatoms --config data/conf/extract_heteroatoms.yml --input_structure_path data/input/extract_heteroatom.pdb --output_heteroatom_path data/output/output.exthet.pdb"
   ]
  },
  {
   "cell_type": "markdown",
   "metadata": {},
   "source": [
    "### JSON file config"
   ]
  },
  {
   "cell_type": "markdown",
   "metadata": {},
   "source": [
    "extract_heteroatoms.json"
   ]
  },
  {
   "cell_type": "code",
   "execution_count": null,
   "metadata": {},
   "outputs": [],
   "source": [
    "{\n",
    "  \"properties\": {\n",
    "    \"heteroatoms\": [\n",
    "        {\n",
    "            \"name\": \"TA1\",\n",
    "            \"model\": \"1\"\n",
    "        },\n",
    "        {\n",
    "            \"name\": \"ADP\"\n",
    "        }\n",
    "    ]\n",
    "  }\n",
    "}"
   ]
  },
  {
   "cell_type": "markdown",
   "metadata": {},
   "source": [
    "Command:"
   ]
  },
  {
   "cell_type": "code",
   "execution_count": null,
   "metadata": {},
   "outputs": [],
   "source": [
    "extract_heteroatoms --config data/conf/extract_heteroatoms.json --input_structure_path data/input/extract_heteroatom.pdb --output_heteroatom_path data/output/output.exthet.pdb"
   ]
  },
  {
   "cell_type": "markdown",
   "metadata": {},
   "source": [
    "## Extract Model"
   ]
  },
  {
   "cell_type": "markdown",
   "metadata": {},
   "source": [
    "Class to extract a model from a 3D structure."
   ]
  },
  {
   "cell_type": "markdown",
   "metadata": {},
   "source": [
    "### Get help"
   ]
  },
  {
   "cell_type": "markdown",
   "metadata": {},
   "source": [
    "Command:"
   ]
  },
  {
   "cell_type": "code",
   "execution_count": null,
   "metadata": {},
   "outputs": [],
   "source": [
    "extract_model -h"
   ]
  },
  {
   "cell_type": "code",
   "execution_count": null,
   "metadata": {},
   "outputs": [],
   "source": [
    "usage: extract_model [-h] [-c CONFIG] [--system SYSTEM] [--step STEP] -i INPUT_STRUCTURE_PATH -o OUTPUT_STRUCTURE_PATH\n",
    "\n",
    "Extract a model from a 3D structure.\n",
    "\n",
    "optional arguments:\n",
    "  -h, --help            show this help message and exit\n",
    "  -c CONFIG, --config CONFIG\n",
    "                        This file can be a YAML file, JSON file or JSON string\n",
    "  --system SYSTEM       Check 'https://biobb-common.readthedocs.io/en/latest/system_step.html' for help\n",
    "  --step STEP           Check 'https://biobb-common.readthedocs.io/en/latest/system_step.html' for help\n",
    "\n",
    "required arguments:\n",
    "  -i INPUT_STRUCTURE_PATH, --input_structure_path INPUT_STRUCTURE_PATH\n",
    "                        Input structure file path. Accepted formats: pdb.\n",
    "  -o OUTPUT_STRUCTURE_PATH, --output_structure_path OUTPUT_STRUCTURE_PATH\n",
    "                        Output structure file path. Accepted formats: pdb."
   ]
  },
  {
   "cell_type": "markdown",
   "metadata": {},
   "source": [
    "### I / O Arguments"
   ]
  },
  {
   "cell_type": "markdown",
   "metadata": {},
   "source": [
    "Syntax: input_argument (datatype) : Definition\n",
    "\n",
    "Config input / output arguments for this building block:\n",
    "\n",
    "* **input_structure_path** (*str*): Input structure file path. Accepted formats: pdb.\n",
    "* **output_structure_path** (*str*): Output structure file path. Accepted formats: pdb."
   ]
  },
  {
   "cell_type": "markdown",
   "metadata": {},
   "source": [
    "### Config"
   ]
  },
  {
   "cell_type": "markdown",
   "metadata": {},
   "source": [
    "Syntax: input_parameter (datatype) - (default_value) Definition\n",
    "\n",
    "Config parameters for this building block:\n",
    "\n",
    "* **models** (*list*) - (None) List of models to be extracted from the input_structure_path file. If empty, all the models of the structure will be returned.\n",
    "* **remove_tmp** (*bool*) - (True) [WF property] Remove temporal files.\n",
    "* **restart** (*bool*) - (False) [WF property] Do not execute if output files exist."
   ]
  },
  {
   "cell_type": "markdown",
   "metadata": {},
   "source": [
    "### YAML file config"
   ]
  },
  {
   "cell_type": "markdown",
   "metadata": {},
   "source": [
    "extract_model.yml"
   ]
  },
  {
   "cell_type": "code",
   "execution_count": null,
   "metadata": {},
   "outputs": [],
   "source": [
    "properties:\n",
    "  models: [1,4]"
   ]
  },
  {
   "cell_type": "code",
   "execution_count": null,
   "metadata": {},
   "outputs": [],
   "source": [
    "extract_model --config data/conf/extract_model.yml --input_structure_path data/input/extract_model.pdb --output_structure_path data/output/output.extmod.pdb"
   ]
  },
  {
   "cell_type": "markdown",
   "metadata": {},
   "source": [
    "### JSON file config"
   ]
  },
  {
   "cell_type": "markdown",
   "metadata": {},
   "source": [
    "extract_model.json"
   ]
  },
  {
   "cell_type": "code",
   "execution_count": null,
   "metadata": {},
   "outputs": [],
   "source": [
    "{\n",
    "  \"properties\": {\n",
    "    \"models\": [1,4]\n",
    "  }\n",
    "}"
   ]
  },
  {
   "cell_type": "markdown",
   "metadata": {},
   "source": [
    "Command:"
   ]
  },
  {
   "cell_type": "code",
   "execution_count": null,
   "metadata": {},
   "outputs": [],
   "source": [
    "extract_model --config data/conf/extract_model.json --input_structure_path data/input/extract_model.pdb --output_structure_path data/output/output.extmod.pdb"
   ]
  },
  {
   "cell_type": "markdown",
   "metadata": {},
   "source": [
    "## Extract Protein"
   ]
  },
  {
   "cell_type": "markdown",
   "metadata": {},
   "source": [
    "Class to extract a protein from a 3D structure."
   ]
  },
  {
   "cell_type": "markdown",
   "metadata": {},
   "source": [
    "### Get help"
   ]
  },
  {
   "cell_type": "markdown",
   "metadata": {},
   "source": [
    "Command:"
   ]
  },
  {
   "cell_type": "code",
   "execution_count": null,
   "metadata": {},
   "outputs": [],
   "source": [
    "extract_protein -h"
   ]
  },
  {
   "cell_type": "code",
   "execution_count": null,
   "metadata": {},
   "outputs": [],
   "source": [
    "usage: extract_protein [-h] [-c CONFIG] [--system SYSTEM] [--step STEP] -i INPUT_STRUCTURE_PATH -o OUTPUT_PROTEIN_PATH\n",
    "\n",
    "Extract a protein from a 3D structure.\n",
    "\n",
    "optional arguments:\n",
    "  -h, --help            show this help message and exit\n",
    "  -c CONFIG, --config CONFIG\n",
    "                        This file can be a YAML file, JSON file or JSON string\n",
    "  --system SYSTEM       Check 'https://biobb-common.readthedocs.io/en/latest/system_step.html' for help\n",
    "  --step STEP           Check 'https://biobb-common.readthedocs.io/en/latest/system_step.html' for help\n",
    "\n",
    "required arguments:\n",
    "  -i INPUT_STRUCTURE_PATH, --input_structure_path INPUT_STRUCTURE_PATH\n",
    "                        Input structure file path. Accepted formats: pdb.\n",
    "  -o OUTPUT_PROTEIN_PATH, --output_protein_path OUTPUT_PROTEIN_PATH\n",
    "                        Output heteroatom file path. Accepted formats: pdb."
   ]
  },
  {
   "cell_type": "markdown",
   "metadata": {},
   "source": [
    "### I / O Arguments"
   ]
  },
  {
   "cell_type": "markdown",
   "metadata": {},
   "source": [
    "Syntax: input_argument (datatype) : Definition\n",
    "\n",
    "Config input / output arguments for this building block:\n",
    "\n",
    "* **input_structure_path** (*str*): Input structure file path. Accepted formats: pdb.\n",
    "* **output_protein_path** (*str*): Output heteroatom file path. Accepted formats: pdb."
   ]
  },
  {
   "cell_type": "markdown",
   "metadata": {},
   "source": [
    "### Config"
   ]
  },
  {
   "cell_type": "markdown",
   "metadata": {},
   "source": [
    "Syntax: input_parameter (datatype) - (default_value) Definition\n",
    "\n",
    "Config parameters for this building block:\n",
    "\n",
    "* **remove_tmp** (*bool*) - (True) [WF property] Remove temporal files.\n",
    "* **restart** (*bool*) - (False) [WF property] Do not execute if output files exist."
   ]
  },
  {
   "cell_type": "markdown",
   "metadata": {},
   "source": [
    "### Command line"
   ]
  },
  {
   "cell_type": "code",
   "execution_count": null,
   "metadata": {},
   "outputs": [],
   "source": [
    "extract_protein --input_structure_path data/input/extract_protein.pdb --output_protein_path data/output/output.extprot.pdb"
   ]
  },
  {
   "cell_type": "markdown",
   "metadata": {},
   "source": [
    "## Remove Ligand"
   ]
  },
  {
   "cell_type": "markdown",
   "metadata": {},
   "source": [
    "Class to remove the selected ligand atoms from a 3D structure."
   ]
  },
  {
   "cell_type": "markdown",
   "metadata": {},
   "source": [
    "### Get help"
   ]
  },
  {
   "cell_type": "markdown",
   "metadata": {},
   "source": [
    "Command:"
   ]
  },
  {
   "cell_type": "code",
   "execution_count": null,
   "metadata": {},
   "outputs": [],
   "source": [
    "remove_ligand -h"
   ]
  },
  {
   "cell_type": "code",
   "execution_count": null,
   "metadata": {},
   "outputs": [],
   "source": [
    "usage: remove_ligand [-h] [-c CONFIG] [--system SYSTEM] [--step STEP] -i INPUT_STRUCTURE_PATH -o OUTPUT_STRUCTURE_PATH\n",
    "\n",
    "Remove the selected ligand atoms from a 3D structure.\n",
    "\n",
    "optional arguments:\n",
    "  -h, --help            show this help message and exit\n",
    "  -c CONFIG, --config CONFIG\n",
    "                        This file can be a YAML file, JSON file or JSON string\n",
    "  --system SYSTEM       Check 'https://biobb-common.readthedocs.io/en/latest/system_step.html' for help\n",
    "  --step STEP           Check 'https://biobb-common.readthedocs.io/en/latest/system_step.html' for help\n",
    "\n",
    "required arguments:\n",
    "  -i INPUT_STRUCTURE_PATH, --input_structure_path INPUT_STRUCTURE_PATH\n",
    "                        Input structure file name\n",
    "  -o OUTPUT_STRUCTURE_PATH, --output_structure_path OUTPUT_STRUCTURE_PATH\n",
    "                        Output structure file name"
   ]
  },
  {
   "cell_type": "markdown",
   "metadata": {},
   "source": [
    "### I / O Arguments"
   ]
  },
  {
   "cell_type": "markdown",
   "metadata": {},
   "source": [
    "Syntax: input_argument (datatype) : Definition\n",
    "\n",
    "Config input / output arguments for this building block:\n",
    "\n",
    "* **input_structure_path** (*str*): Input structure file name\n",
    "* **output_structure_path** (*str*): Output structure file name"
   ]
  },
  {
   "cell_type": "markdown",
   "metadata": {},
   "source": [
    "### Config"
   ]
  },
  {
   "cell_type": "markdown",
   "metadata": {},
   "source": [
    "Syntax: input_parameter (datatype) - (default_value) Definition\n",
    "\n",
    "Config parameters for this building block:\n",
    "\n",
    "* **ligand** (*str*) - (\"AQ4\") Residue code of the ligand to be removed.\n",
    "* **remove_tmp** (*bool*) - (True) [WF property] Remove temporal files.\n",
    "* **restart** (*bool*) - (False) [WF property] Do not execute if output files exist.\n",
    "* **remove_tmp** (*bool*) - (True) [WF property] Remove temporal files.\n",
    "* **restart** (*bool*) - (False) [WF property] Do not execute if output files exist."
   ]
  },
  {
   "cell_type": "markdown",
   "metadata": {},
   "source": [
    "### YAML file config"
   ]
  },
  {
   "cell_type": "markdown",
   "metadata": {},
   "source": [
    "remove_ligand.yml"
   ]
  },
  {
   "cell_type": "code",
   "execution_count": null,
   "metadata": {},
   "outputs": [],
   "source": [
    "properties:\n",
    "  ligand: 'AQ4'"
   ]
  },
  {
   "cell_type": "code",
   "execution_count": null,
   "metadata": {},
   "outputs": [],
   "source": [
    "remove_ligand --config data/conf/remove_ligand.yml --input_structure_path data/input/WT_aq4_md_1.pdb --output_structure_path data/output/output.remlig.pdb"
   ]
  },
  {
   "cell_type": "markdown",
   "metadata": {},
   "source": [
    "### JSON file config"
   ]
  },
  {
   "cell_type": "markdown",
   "metadata": {},
   "source": [
    "remove_ligand.json"
   ]
  },
  {
   "cell_type": "code",
   "execution_count": null,
   "metadata": {},
   "outputs": [],
   "source": [
    "{\n",
    "  \"properties\": {\n",
    "    \"ligand\": \"AQ4\"\n",
    "  }\n",
    "}"
   ]
  },
  {
   "cell_type": "markdown",
   "metadata": {},
   "source": [
    "Command:"
   ]
  },
  {
   "cell_type": "code",
   "execution_count": null,
   "metadata": {},
   "outputs": [],
   "source": [
    "remove_ligand --config data/conf/remove_ligand.json --input_structure_path data/input/WT_aq4_md_1.pdb --output_structure_path data/output/output.remlig.pdb"
   ]
  },
  {
   "cell_type": "markdown",
   "metadata": {},
   "source": [
    "## Remove PDB Water"
   ]
  },
  {
   "cell_type": "markdown",
   "metadata": {},
   "source": [
    "Class to remove water molecules from PDB 3D structures."
   ]
  },
  {
   "cell_type": "markdown",
   "metadata": {},
   "source": [
    "### Get help"
   ]
  },
  {
   "cell_type": "markdown",
   "metadata": {},
   "source": [
    "Command:"
   ]
  },
  {
   "cell_type": "code",
   "execution_count": null,
   "metadata": {},
   "outputs": [],
   "source": [
    "remove_pdb_water -h"
   ]
  },
  {
   "cell_type": "code",
   "execution_count": null,
   "metadata": {},
   "outputs": [],
   "source": [
    "usage: remove_pdb_water [-h] [-c CONFIG] [--system SYSTEM] [--step STEP] -i INPUT_PDB_PATH -o OUTPUT_PDB_PATH\n",
    "\n",
    "Remove the water molecules from a PDB 3D structure.\n",
    "\n",
    "optional arguments:\n",
    "  -h, --help            show this help message and exit\n",
    "  -c CONFIG, --config CONFIG\n",
    "                        This file can be a YAML file, JSON file or JSON string\n",
    "  --system SYSTEM       Check 'https://biobb-common.readthedocs.io/en/latest/system_step.html' for help\n",
    "  --step STEP           Check 'https://biobb-common.readthedocs.io/en/latest/system_step.html' for help\n",
    "\n",
    "required arguments:\n",
    "  -i INPUT_PDB_PATH, --input_pdb_path INPUT_PDB_PATH\n",
    "                        Input pdb file name\n",
    "  -o OUTPUT_PDB_PATH, --output_pdb_path OUTPUT_PDB_PATH\n",
    "                        Output pdb file name"
   ]
  },
  {
   "cell_type": "markdown",
   "metadata": {},
   "source": [
    "### I / O Arguments"
   ]
  },
  {
   "cell_type": "markdown",
   "metadata": {},
   "source": [
    "Syntax: input_argument (datatype) : Definition\n",
    "\n",
    "Config input / output arguments for this building block:\n",
    "\n",
    "* **input_pdb_path** (*str*): Input pdb file name\n",
    "* **output_pdb_path** (*str*): Output pdb file name"
   ]
  },
  {
   "cell_type": "markdown",
   "metadata": {},
   "source": [
    "### Config"
   ]
  },
  {
   "cell_type": "markdown",
   "metadata": {},
   "source": [
    "Syntax: input_parameter (datatype) - (default_value) Definition\n",
    "\n",
    "Config parameters for this building block:\n",
    "\n",
    "* **remove_tmp** (*bool*) - (True) [WF property] Remove temporal files.\n",
    "* **restart** (*bool*) - (False) [WF property] Do not execute if output files exist."
   ]
  },
  {
   "cell_type": "markdown",
   "metadata": {},
   "source": [
    "### Command line"
   ]
  },
  {
   "cell_type": "code",
   "execution_count": null,
   "metadata": {},
   "outputs": [],
   "source": [
    "remove_pdb_water --input_pdb_path data/input/WT_aq4_md_WAT.pdb --output_pdb_path data/output/output.remwat.pdb"
   ]
  },
  {
   "cell_type": "markdown",
   "metadata": {},
   "source": [
    "## Renumber Structure"
   ]
  },
  {
   "cell_type": "markdown",
   "metadata": {},
   "source": [
    "Class to renumber atomic indexes from a 3D structure."
   ]
  },
  {
   "cell_type": "markdown",
   "metadata": {},
   "source": [
    "### Get help"
   ]
  },
  {
   "cell_type": "markdown",
   "metadata": {},
   "source": [
    "Command:"
   ]
  },
  {
   "cell_type": "code",
   "execution_count": null,
   "metadata": {},
   "outputs": [],
   "source": [
    "renumber_structure -h"
   ]
  },
  {
   "cell_type": "code",
   "execution_count": null,
   "metadata": {},
   "outputs": [],
   "source": [
    "usage: renumber_structure [-h] [-c CONFIG] [--system SYSTEM] [--step STEP] -i INPUT_STRUCTURE_PATH -o OUTPUT_STRUCTURE_PATH -j OUTPUT_MAPPING_JSON_PATH\n",
    "\n",
    "Renumber atoms and residues from a 3D structure.\n",
    "\n",
    "optional arguments:\n",
    "  -h, --help            show this help message and exit\n",
    "  -c CONFIG, --config CONFIG\n",
    "                        This file can be a YAML file, JSON file or JSON string\n",
    "  --system SYSTEM       Check 'https://biobb-common.readthedocs.io/en/latest/system_step.html' for help\n",
    "  --step STEP           Check 'https://biobb-common.readthedocs.io/en/latest/system_step.html' for help\n",
    "\n",
    "required arguments:\n",
    "  -i INPUT_STRUCTURE_PATH, --input_structure_path INPUT_STRUCTURE_PATH\n",
    "                        Input structure file name\n",
    "  -o OUTPUT_STRUCTURE_PATH, --output_structure_path OUTPUT_STRUCTURE_PATH\n",
    "                        Output structure file name\n",
    "  -j OUTPUT_MAPPING_JSON_PATH, --output_mapping_json_path OUTPUT_MAPPING_JSON_PATH\n",
    "                        Output mapping json file name"
   ]
  },
  {
   "cell_type": "markdown",
   "metadata": {},
   "source": [
    "### I / O Arguments"
   ]
  },
  {
   "cell_type": "markdown",
   "metadata": {},
   "source": [
    "Syntax: input_argument (datatype) : Definition\n",
    "\n",
    "Config input / output arguments for this building block:\n",
    "\n",
    "* **input_structure_path** (*str*): Input structure file name\n",
    "* **output_structure_path** (*str*): Output structure file name\n",
    "* **output_mapping_json_path** (*str*): Output mapping json file name"
   ]
  },
  {
   "cell_type": "markdown",
   "metadata": {},
   "source": [
    "### Config"
   ]
  },
  {
   "cell_type": "markdown",
   "metadata": {},
   "source": [
    "Syntax: input_parameter (datatype) - (default_value) Definition\n",
    "\n",
    "Config parameters for this building block:\n",
    "\n",
    "* **renumber_residues** (*bool*) - (True) Residue code of the ligand to be removed.\n",
    "* **renumber_residues_per_chain** (*bool*) - (True) Restart residue enumeration every time a new chain is detected.\n",
    "* **remove_tmp** (*bool*) - (True) [WF property] Remove temporal files.\n",
    "* **restart** (*bool*) - (False) [WF property] Do not execute if output files exist."
   ]
  },
  {
   "cell_type": "markdown",
   "metadata": {},
   "source": [
    "### Command line"
   ]
  },
  {
   "cell_type": "code",
   "execution_count": null,
   "metadata": {},
   "outputs": [],
   "source": [
    "renumber_structure --input_structure_path data/input/cl3.noH.pdb --output_mapping_json_path data/output/output.renstr.json --output_structure_path data/output/output.renstr.pdb"
   ]
  },
  {
   "cell_type": "markdown",
   "metadata": {},
   "source": [
    "## Sort GRO Residues"
   ]
  },
  {
   "cell_type": "markdown",
   "metadata": {},
   "source": [
    "Class to sort the selected residues from a GRO 3D structure."
   ]
  },
  {
   "cell_type": "markdown",
   "metadata": {},
   "source": [
    "### Get help"
   ]
  },
  {
   "cell_type": "markdown",
   "metadata": {},
   "source": [
    "Command:"
   ]
  },
  {
   "cell_type": "code",
   "execution_count": null,
   "metadata": {},
   "outputs": [],
   "source": [
    "sort_gro_residues -h"
   ]
  },
  {
   "cell_type": "code",
   "execution_count": null,
   "metadata": {},
   "outputs": [],
   "source": [
    "usage: sort_gro_residues [-h] [-c CONFIG] [--system SYSTEM] [--step STEP] -i INPUT_GRO_PATH -o OUTPUT_GRO_PATH\n",
    "\n",
    "Renumber atoms and residues from a 3D structure.\n",
    "\n",
    "optional arguments:\n",
    "  -h, --help            show this help message and exit\n",
    "  -c CONFIG, --config CONFIG\n",
    "                        This file can be a YAML file, JSON file or JSON string\n",
    "  --system SYSTEM       Check 'https://biobb-common.readthedocs.io/en/latest/system_step.html' for help\n",
    "  --step STEP           Check 'https://biobb-common.readthedocs.io/en/latest/system_step.html' for help\n",
    "\n",
    "required arguments:\n",
    "  -i INPUT_GRO_PATH, --input_gro_path INPUT_GRO_PATH\n",
    "                        Input GRO file name\n",
    "  -o OUTPUT_GRO_PATH, --output_gro_path OUTPUT_GRO_PATH\n",
    "                        Output sorted GRO file name"
   ]
  },
  {
   "cell_type": "markdown",
   "metadata": {},
   "source": [
    "### I / O Arguments"
   ]
  },
  {
   "cell_type": "markdown",
   "metadata": {},
   "source": [
    "Syntax: input_argument (datatype) : Definition\n",
    "\n",
    "Config input / output arguments for this building block:\n",
    "\n",
    "* **input_gro_path** (*str*): Input GRO file name\n",
    "* **output_gro_path** (*str*): Output sorted GRO file name"
   ]
  },
  {
   "cell_type": "markdown",
   "metadata": {},
   "source": [
    "### Config"
   ]
  },
  {
   "cell_type": "markdown",
   "metadata": {},
   "source": [
    "Syntax: input_parameter (datatype) - (default_value) Definition\n",
    "\n",
    "Config parameters for this building block:\n",
    "\n",
    "* **residue_name_list** (*list*) - ([\"NA\", \"CL\", \"SOL\"]) Ordered residue name list.\n",
    "* **remove_tmp** (*bool*) - (True) [WF property] Remove temporal files.\n",
    "* **restart** (*bool*) - (False) [WF property] Do not execute if output files exist."
   ]
  },
  {
   "cell_type": "markdown",
   "metadata": {},
   "source": [
    "### YAML file config"
   ]
  },
  {
   "cell_type": "markdown",
   "metadata": {},
   "source": [
    "sort_gro_residues.yml"
   ]
  },
  {
   "cell_type": "code",
   "execution_count": null,
   "metadata": {},
   "outputs": [],
   "source": [
    "properties:\n",
    "  residue_name_list: ['NA', 'CL', 'SOL']"
   ]
  },
  {
   "cell_type": "code",
   "execution_count": 23,
   "metadata": {},
   "outputs": [],
   "source": [
    "sort_gro_residues --config data/conf/sort_gro_residues.yml --input_gro_path data/input/WT_aq4_md_1.gro --output_gro_path data/output/output.sortgro.gro"
   ]
  },
  {
   "cell_type": "markdown",
   "metadata": {},
   "source": [
    "### JSON file config"
   ]
  },
  {
   "cell_type": "markdown",
   "metadata": {},
   "source": [
    "sort_gro_residues.json"
   ]
  },
  {
   "cell_type": "code",
   "execution_count": null,
   "metadata": {},
   "outputs": [],
   "source": [
    "{\n",
    "  \"properties\": {\n",
    "    \"residue_name_list\": [\"NA\", \"CL\", \"SOL\"]\n",
    "  }\n",
    "}"
   ]
  },
  {
   "cell_type": "markdown",
   "metadata": {},
   "source": [
    "Command:"
   ]
  },
  {
   "cell_type": "code",
   "execution_count": 24,
   "metadata": {},
   "outputs": [],
   "source": [
    "sort_gro_residues --config data/conf/sort_gro_residues.json --input_gro_path data/input/WT_aq4_md_1.gro --output_gro_path data/output/output.sortgro.gro"
   ]
  }
 ],
 "metadata": {
  "kernelspec": {
   "display_name": "Python 3",
   "language": "python",
   "name": "python3"
  },
  "language_info": {
   "codemirror_mode": {
    "name": "ipython",
    "version": 3
   },
   "file_extension": ".py",
   "mimetype": "text/x-python",
   "name": "python",
   "nbconvert_exporter": "python",
   "pygments_lexer": "ipython3",
   "version": "3.6.0"
  }
 },
 "nbformat": 4,
 "nbformat_minor": 2
}
